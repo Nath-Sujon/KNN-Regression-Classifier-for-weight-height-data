{
 "cells": [
  {
   "cell_type": "markdown",
   "id": "5c37de27",
   "metadata": {},
   "source": [
    "# KNN Regression & Classifier"
   ]
  },
  {
   "cell_type": "markdown",
   "id": "bc099694",
   "metadata": {},
   "source": [
    "''' \n",
    "Step 01:\n",
    "\n",
    "KNN Regressor:\n",
    "1. Import data set\n",
    "2. Seperate x(Gender, Height) and y (y=Weight)\n",
    "3. Train = 70%, Test = 30%\n",
    "4. Apply Linear Regression\n",
    "5. Evaluate Model (Accuracy, MSE, MAE)\n",
    "6. Apply KNN Regressor: https://scikit-learn.org/stable/modules/generated/sklearn.neighbors.KNeighborsRegressor.html\n",
    "7. Evaluate Model (Accuracy, MSE, Prediction)\n",
    "\n",
    "Tuning:\n",
    "1. Apply Randomized Search CV to select best K vlaue\n",
    "2. Compare accuracy with default KNN and After tuning K value\n",
    "3. Evaluate Model (Accuracy, MSE, Prediction) and Compare with Old KNN model and Linear regression as well.\n",
    "\n",
    "\n",
    "Step 02:\n",
    "\n",
    "KNN Classifier:\n",
    "1. Import data set\n",
    "2. Seperate x and y (y=Gender)\n",
    "3. Train = 70%, Test = 30%\n",
    "4. Apply KNN Classifier \n",
    "5. Evaluate Model (Accuracy, Confusion Matrix, ROC, AUC, Classification Report)\n",
    "6. Apply KNN Classifier: https://scikit-learn.org/stable/modules/generated/sklearn.neighbors.KNeighborsClassifier.html\n",
    "\n",
    "'''"
   ]
  },
  {
   "cell_type": "markdown",
   "id": "e849691a",
   "metadata": {},
   "source": [
    "# Solution: Step 01:KNN Regressor:"
   ]
  },
  {
   "cell_type": "code",
   "execution_count": 1,
   "id": "29d5332c",
   "metadata": {},
   "outputs": [],
   "source": [
    "import pandas as pd\n",
    "import numpy as np\n",
    "import matplotlib.pyplot as plt"
   ]
  },
  {
   "cell_type": "code",
   "execution_count": 2,
   "id": "d0cc99c0",
   "metadata": {},
   "outputs": [],
   "source": [
    "df = pd.read_csv('weight-height.csv')"
   ]
  },
  {
   "cell_type": "code",
   "execution_count": 3,
   "id": "a8f796b8",
   "metadata": {},
   "outputs": [
    {
     "data": {
      "text/html": [
       "<div>\n",
       "<style scoped>\n",
       "    .dataframe tbody tr th:only-of-type {\n",
       "        vertical-align: middle;\n",
       "    }\n",
       "\n",
       "    .dataframe tbody tr th {\n",
       "        vertical-align: top;\n",
       "    }\n",
       "\n",
       "    .dataframe thead th {\n",
       "        text-align: right;\n",
       "    }\n",
       "</style>\n",
       "<table border=\"1\" class=\"dataframe\">\n",
       "  <thead>\n",
       "    <tr style=\"text-align: right;\">\n",
       "      <th></th>\n",
       "      <th>Gender</th>\n",
       "      <th>Height</th>\n",
       "      <th>Weight</th>\n",
       "    </tr>\n",
       "  </thead>\n",
       "  <tbody>\n",
       "    <tr>\n",
       "      <th>0</th>\n",
       "      <td>Male</td>\n",
       "      <td>73.847017</td>\n",
       "      <td>241.893563</td>\n",
       "    </tr>\n",
       "    <tr>\n",
       "      <th>1</th>\n",
       "      <td>Male</td>\n",
       "      <td>68.781904</td>\n",
       "      <td>162.310473</td>\n",
       "    </tr>\n",
       "    <tr>\n",
       "      <th>2</th>\n",
       "      <td>Male</td>\n",
       "      <td>74.110105</td>\n",
       "      <td>212.740856</td>\n",
       "    </tr>\n",
       "    <tr>\n",
       "      <th>3</th>\n",
       "      <td>Male</td>\n",
       "      <td>71.730978</td>\n",
       "      <td>220.042470</td>\n",
       "    </tr>\n",
       "    <tr>\n",
       "      <th>4</th>\n",
       "      <td>Male</td>\n",
       "      <td>69.881796</td>\n",
       "      <td>206.349801</td>\n",
       "    </tr>\n",
       "  </tbody>\n",
       "</table>\n",
       "</div>"
      ],
      "text/plain": [
       "  Gender     Height      Weight\n",
       "0   Male  73.847017  241.893563\n",
       "1   Male  68.781904  162.310473\n",
       "2   Male  74.110105  212.740856\n",
       "3   Male  71.730978  220.042470\n",
       "4   Male  69.881796  206.349801"
      ]
     },
     "execution_count": 3,
     "metadata": {},
     "output_type": "execute_result"
    }
   ],
   "source": [
    "df.head()"
   ]
  },
  {
   "cell_type": "code",
   "execution_count": 4,
   "id": "60a92e55",
   "metadata": {},
   "outputs": [
    {
     "data": {
      "text/plain": [
       "(8555, 3)"
      ]
     },
     "execution_count": 4,
     "metadata": {},
     "output_type": "execute_result"
    }
   ],
   "source": [
    "df.shape"
   ]
  },
  {
   "cell_type": "code",
   "execution_count": 5,
   "id": "e047d0e4",
   "metadata": {},
   "outputs": [
    {
     "name": "stdout",
     "output_type": "stream",
     "text": [
      "<class 'pandas.core.frame.DataFrame'>\n",
      "RangeIndex: 8555 entries, 0 to 8554\n",
      "Data columns (total 3 columns):\n",
      " #   Column  Non-Null Count  Dtype  \n",
      "---  ------  --------------  -----  \n",
      " 0   Gender  8555 non-null   object \n",
      " 1   Height  8555 non-null   float64\n",
      " 2   Weight  8555 non-null   float64\n",
      "dtypes: float64(2), object(1)\n",
      "memory usage: 200.6+ KB\n"
     ]
    }
   ],
   "source": [
    "df.info()"
   ]
  },
  {
   "cell_type": "code",
   "execution_count": 6,
   "id": "533a0968",
   "metadata": {},
   "outputs": [],
   "source": [
    "df1 = df.copy()\n",
    "df2 = df.copy()\n",
    "df3 = df.copy()\n"
   ]
  },
  {
   "cell_type": "code",
   "execution_count": 7,
   "id": "87480432",
   "metadata": {},
   "outputs": [],
   "source": [
    "from sklearn.preprocessing import LabelEncoder\n",
    "le = LabelEncoder()"
   ]
  },
  {
   "cell_type": "code",
   "execution_count": 8,
   "id": "cdc155dd",
   "metadata": {},
   "outputs": [
    {
     "data": {
      "text/html": [
       "<div>\n",
       "<style scoped>\n",
       "    .dataframe tbody tr th:only-of-type {\n",
       "        vertical-align: middle;\n",
       "    }\n",
       "\n",
       "    .dataframe tbody tr th {\n",
       "        vertical-align: top;\n",
       "    }\n",
       "\n",
       "    .dataframe thead th {\n",
       "        text-align: right;\n",
       "    }\n",
       "</style>\n",
       "<table border=\"1\" class=\"dataframe\">\n",
       "  <thead>\n",
       "    <tr style=\"text-align: right;\">\n",
       "      <th></th>\n",
       "      <th>Gender</th>\n",
       "      <th>Height</th>\n",
       "      <th>Weight</th>\n",
       "    </tr>\n",
       "  </thead>\n",
       "  <tbody>\n",
       "    <tr>\n",
       "      <th>0</th>\n",
       "      <td>Male</td>\n",
       "      <td>73.847017</td>\n",
       "      <td>241.893563</td>\n",
       "    </tr>\n",
       "    <tr>\n",
       "      <th>1</th>\n",
       "      <td>Male</td>\n",
       "      <td>68.781904</td>\n",
       "      <td>162.310473</td>\n",
       "    </tr>\n",
       "    <tr>\n",
       "      <th>2</th>\n",
       "      <td>Male</td>\n",
       "      <td>74.110105</td>\n",
       "      <td>212.740856</td>\n",
       "    </tr>\n",
       "    <tr>\n",
       "      <th>3</th>\n",
       "      <td>Male</td>\n",
       "      <td>71.730978</td>\n",
       "      <td>220.042470</td>\n",
       "    </tr>\n",
       "    <tr>\n",
       "      <th>4</th>\n",
       "      <td>Male</td>\n",
       "      <td>69.881796</td>\n",
       "      <td>206.349801</td>\n",
       "    </tr>\n",
       "  </tbody>\n",
       "</table>\n",
       "</div>"
      ],
      "text/plain": [
       "  Gender     Height      Weight\n",
       "0   Male  73.847017  241.893563\n",
       "1   Male  68.781904  162.310473\n",
       "2   Male  74.110105  212.740856\n",
       "3   Male  71.730978  220.042470\n",
       "4   Male  69.881796  206.349801"
      ]
     },
     "execution_count": 8,
     "metadata": {},
     "output_type": "execute_result"
    }
   ],
   "source": [
    "df1.head()"
   ]
  },
  {
   "cell_type": "code",
   "execution_count": 9,
   "id": "2f90a849",
   "metadata": {},
   "outputs": [],
   "source": [
    "df1.Gender =le.fit_transform(df1.Gender) "
   ]
  },
  {
   "cell_type": "code",
   "execution_count": 10,
   "id": "075ff34f",
   "metadata": {},
   "outputs": [
    {
     "data": {
      "text/html": [
       "<div>\n",
       "<style scoped>\n",
       "    .dataframe tbody tr th:only-of-type {\n",
       "        vertical-align: middle;\n",
       "    }\n",
       "\n",
       "    .dataframe tbody tr th {\n",
       "        vertical-align: top;\n",
       "    }\n",
       "\n",
       "    .dataframe thead th {\n",
       "        text-align: right;\n",
       "    }\n",
       "</style>\n",
       "<table border=\"1\" class=\"dataframe\">\n",
       "  <thead>\n",
       "    <tr style=\"text-align: right;\">\n",
       "      <th></th>\n",
       "      <th>Gender</th>\n",
       "      <th>Height</th>\n",
       "      <th>Weight</th>\n",
       "    </tr>\n",
       "  </thead>\n",
       "  <tbody>\n",
       "    <tr>\n",
       "      <th>0</th>\n",
       "      <td>1</td>\n",
       "      <td>73.847017</td>\n",
       "      <td>241.893563</td>\n",
       "    </tr>\n",
       "    <tr>\n",
       "      <th>1</th>\n",
       "      <td>1</td>\n",
       "      <td>68.781904</td>\n",
       "      <td>162.310473</td>\n",
       "    </tr>\n",
       "    <tr>\n",
       "      <th>2</th>\n",
       "      <td>1</td>\n",
       "      <td>74.110105</td>\n",
       "      <td>212.740856</td>\n",
       "    </tr>\n",
       "    <tr>\n",
       "      <th>3</th>\n",
       "      <td>1</td>\n",
       "      <td>71.730978</td>\n",
       "      <td>220.042470</td>\n",
       "    </tr>\n",
       "    <tr>\n",
       "      <th>4</th>\n",
       "      <td>1</td>\n",
       "      <td>69.881796</td>\n",
       "      <td>206.349801</td>\n",
       "    </tr>\n",
       "  </tbody>\n",
       "</table>\n",
       "</div>"
      ],
      "text/plain": [
       "   Gender     Height      Weight\n",
       "0       1  73.847017  241.893563\n",
       "1       1  68.781904  162.310473\n",
       "2       1  74.110105  212.740856\n",
       "3       1  71.730978  220.042470\n",
       "4       1  69.881796  206.349801"
      ]
     },
     "execution_count": 10,
     "metadata": {},
     "output_type": "execute_result"
    }
   ],
   "source": [
    "df1.head()"
   ]
  },
  {
   "cell_type": "code",
   "execution_count": 11,
   "id": "c85a269e",
   "metadata": {},
   "outputs": [
    {
     "data": {
      "text/plain": [
       "array([1, 0])"
      ]
     },
     "execution_count": 11,
     "metadata": {},
     "output_type": "execute_result"
    }
   ],
   "source": [
    "df1.Gender.unique() # Male = 1 , Female = 0"
   ]
  },
  {
   "cell_type": "code",
   "execution_count": 12,
   "id": "5a5d9cbe",
   "metadata": {},
   "outputs": [],
   "source": [
    "x = df1.drop('Weight',axis=1)\n",
    "y = df.Weight"
   ]
  },
  {
   "cell_type": "markdown",
   "id": "868b7371",
   "metadata": {},
   "source": [
    "# Spliting the dataset for train and test"
   ]
  },
  {
   "cell_type": "code",
   "execution_count": 13,
   "id": "13123c6a",
   "metadata": {},
   "outputs": [],
   "source": [
    "from sklearn.model_selection import train_test_split as tts\n",
    "xtrain,xtest,ytrain,ytest=tts(x,y,train_size=.70, random_state=280)"
   ]
  },
  {
   "cell_type": "code",
   "execution_count": 14,
   "id": "5de77b9d",
   "metadata": {},
   "outputs": [
    {
     "data": {
      "text/plain": [
       "(5988, 2)"
      ]
     },
     "execution_count": 14,
     "metadata": {},
     "output_type": "execute_result"
    }
   ],
   "source": [
    "xtrain.shape"
   ]
  },
  {
   "cell_type": "code",
   "execution_count": 15,
   "id": "265f666d",
   "metadata": {},
   "outputs": [],
   "source": [
    "from sklearn.linear_model import LinearRegression\n",
    "lr = LinearRegression()"
   ]
  },
  {
   "cell_type": "code",
   "execution_count": 16,
   "id": "3070957c",
   "metadata": {},
   "outputs": [
    {
     "data": {
      "text/plain": [
       "LinearRegression()"
      ]
     },
     "execution_count": 16,
     "metadata": {},
     "output_type": "execute_result"
    }
   ],
   "source": [
    "lr.fit(xtrain,ytrain)"
   ]
  },
  {
   "cell_type": "code",
   "execution_count": 17,
   "id": "90b34b56",
   "metadata": {},
   "outputs": [
    {
     "data": {
      "text/plain": [
       "(5988, 2)"
      ]
     },
     "execution_count": 17,
     "metadata": {},
     "output_type": "execute_result"
    }
   ],
   "source": [
    "xtrain.shape"
   ]
  },
  {
   "cell_type": "code",
   "execution_count": 18,
   "id": "6b77debd",
   "metadata": {},
   "outputs": [
    {
     "data": {
      "text/html": [
       "<div>\n",
       "<style scoped>\n",
       "    .dataframe tbody tr th:only-of-type {\n",
       "        vertical-align: middle;\n",
       "    }\n",
       "\n",
       "    .dataframe tbody tr th {\n",
       "        vertical-align: top;\n",
       "    }\n",
       "\n",
       "    .dataframe thead th {\n",
       "        text-align: right;\n",
       "    }\n",
       "</style>\n",
       "<table border=\"1\" class=\"dataframe\">\n",
       "  <thead>\n",
       "    <tr style=\"text-align: right;\">\n",
       "      <th></th>\n",
       "      <th>Gender</th>\n",
       "      <th>Height</th>\n",
       "    </tr>\n",
       "  </thead>\n",
       "  <tbody>\n",
       "    <tr>\n",
       "      <th>4497</th>\n",
       "      <td>1</td>\n",
       "      <td>64.451212</td>\n",
       "    </tr>\n",
       "    <tr>\n",
       "      <th>922</th>\n",
       "      <td>1</td>\n",
       "      <td>69.812022</td>\n",
       "    </tr>\n",
       "    <tr>\n",
       "      <th>7854</th>\n",
       "      <td>0</td>\n",
       "      <td>65.238507</td>\n",
       "    </tr>\n",
       "    <tr>\n",
       "      <th>5669</th>\n",
       "      <td>0</td>\n",
       "      <td>64.997610</td>\n",
       "    </tr>\n",
       "    <tr>\n",
       "      <th>1937</th>\n",
       "      <td>1</td>\n",
       "      <td>67.064124</td>\n",
       "    </tr>\n",
       "  </tbody>\n",
       "</table>\n",
       "</div>"
      ],
      "text/plain": [
       "      Gender     Height\n",
       "4497       1  64.451212\n",
       "922        1  69.812022\n",
       "7854       0  65.238507\n",
       "5669       0  64.997610\n",
       "1937       1  67.064124"
      ]
     },
     "execution_count": 18,
     "metadata": {},
     "output_type": "execute_result"
    }
   ],
   "source": [
    "xtrain.head()"
   ]
  },
  {
   "cell_type": "code",
   "execution_count": 19,
   "id": "b2733f03",
   "metadata": {},
   "outputs": [
    {
     "data": {
      "text/plain": [
       "4497    147.044657\n",
       "922     188.064984\n",
       "7854    125.404933\n",
       "5669    123.868429\n",
       "1937    178.514820\n",
       "Name: Weight, dtype: float64"
      ]
     },
     "execution_count": 19,
     "metadata": {},
     "output_type": "execute_result"
    }
   ],
   "source": [
    "ytrain.head()"
   ]
  },
  {
   "cell_type": "code",
   "execution_count": 20,
   "id": "96bc90eb",
   "metadata": {},
   "outputs": [],
   "source": [
    "testing = lr.predict(xtest)"
   ]
  },
  {
   "cell_type": "code",
   "execution_count": 21,
   "id": "6398c186",
   "metadata": {},
   "outputs": [
    {
     "data": {
      "text/plain": [
       "array([107.99188809, 105.71622957, 141.36307305, ..., 128.4982634 ,\n",
       "       133.28435468, 192.4655118 ])"
      ]
     },
     "execution_count": 21,
     "metadata": {},
     "output_type": "execute_result"
    }
   ],
   "source": [
    "testing"
   ]
  },
  {
   "cell_type": "code",
   "execution_count": 22,
   "id": "8cee5c50",
   "metadata": {},
   "outputs": [
    {
     "data": {
      "text/plain": [
       "0.8987684325692558"
      ]
     },
     "execution_count": 22,
     "metadata": {},
     "output_type": "execute_result"
    }
   ],
   "source": [
    "# Accuracy\n",
    "lr.score(xtrain, ytrain)"
   ]
  },
  {
   "cell_type": "code",
   "execution_count": 23,
   "id": "b7af6e47",
   "metadata": {},
   "outputs": [
    {
     "data": {
      "text/plain": [
       "0.9028067919217864"
      ]
     },
     "execution_count": 23,
     "metadata": {},
     "output_type": "execute_result"
    }
   ],
   "source": [
    "lr.score(xtest, ytest)"
   ]
  },
  {
   "cell_type": "code",
   "execution_count": 24,
   "id": "c8c31ccb",
   "metadata": {},
   "outputs": [
    {
     "data": {
      "text/plain": [
       "97.79089304944755"
      ]
     },
     "execution_count": 24,
     "metadata": {},
     "output_type": "execute_result"
    }
   ],
   "source": [
    "# Mean Square Error \n",
    "from sklearn.metrics import mean_squared_error #MSE\n",
    "\n",
    "mse = mean_squared_error(ytest, testing)# testing error\n",
    "mse"
   ]
  },
  {
   "cell_type": "code",
   "execution_count": 25,
   "id": "f3f20abe",
   "metadata": {},
   "outputs": [
    {
     "data": {
      "text/plain": [
       "7.898595670418773"
      ]
     },
     "execution_count": 25,
     "metadata": {},
     "output_type": "execute_result"
    }
   ],
   "source": [
    "# Mean Absolute Error\n",
    "from sklearn.metrics import mean_absolute_error\n",
    "mae = mean_absolute_error(ytest, testing)\n",
    "mae"
   ]
  },
  {
   "cell_type": "markdown",
   "id": "c2c95578",
   "metadata": {},
   "source": [
    "# KNN Linear Regrssion"
   ]
  },
  {
   "cell_type": "code",
   "execution_count": 26,
   "id": "8ef3f63d",
   "metadata": {},
   "outputs": [],
   "source": [
    "from sklearn.neighbors import KNeighborsRegressor"
   ]
  },
  {
   "cell_type": "code",
   "execution_count": 27,
   "id": "cb787f24",
   "metadata": {},
   "outputs": [
    {
     "data": {
      "text/plain": [
       "KNeighborsRegressor()"
      ]
     },
     "execution_count": 27,
     "metadata": {},
     "output_type": "execute_result"
    }
   ],
   "source": [
    "kr = KNeighborsRegressor()\n",
    "kr.fit(xtrain,ytrain)"
   ]
  },
  {
   "cell_type": "code",
   "execution_count": 28,
   "id": "f97f9c4b",
   "metadata": {},
   "outputs": [],
   "source": [
    "# Prediction\n",
    "prediction1= kr.predict(xtest)"
   ]
  },
  {
   "cell_type": "code",
   "execution_count": 29,
   "id": "99d09b52",
   "metadata": {},
   "outputs": [
    {
     "data": {
      "text/plain": [
       "array([108.0768846 , 107.73977516, 143.18162678, ..., 132.3776309 ,\n",
       "       131.6838739 , 188.54388668])"
      ]
     },
     "execution_count": 29,
     "metadata": {},
     "output_type": "execute_result"
    }
   ],
   "source": [
    "prediction1"
   ]
  },
  {
   "cell_type": "code",
   "execution_count": 30,
   "id": "b075965e",
   "metadata": {},
   "outputs": [
    {
     "data": {
      "text/plain": [
       "0.918184014981459"
      ]
     },
     "execution_count": 30,
     "metadata": {},
     "output_type": "execute_result"
    }
   ],
   "source": [
    "# Accuracy\n",
    "kr.score(xtrain, ytrain)"
   ]
  },
  {
   "cell_type": "code",
   "execution_count": 31,
   "id": "09d8a955",
   "metadata": {},
   "outputs": [
    {
     "data": {
      "text/plain": [
       "0.8824191942939312"
      ]
     },
     "execution_count": 31,
     "metadata": {},
     "output_type": "execute_result"
    }
   ],
   "source": [
    "kr.score(xtest, ytest)"
   ]
  },
  {
   "cell_type": "markdown",
   "id": "aa7a5a03",
   "metadata": {},
   "source": [
    "# Mean Square error "
   ]
  },
  {
   "cell_type": "code",
   "execution_count": 32,
   "id": "9bdb8ef0",
   "metadata": {},
   "outputs": [],
   "source": [
    "# Mean Square Error\n",
    "mse1 = mean_squared_error(ytest, prediction1)"
   ]
  },
  {
   "cell_type": "code",
   "execution_count": 33,
   "id": "42b60dae",
   "metadata": {},
   "outputs": [
    {
     "data": {
      "text/plain": [
       "118.30386323103018"
      ]
     },
     "execution_count": 33,
     "metadata": {},
     "output_type": "execute_result"
    }
   ],
   "source": [
    "mse1"
   ]
  },
  {
   "cell_type": "markdown",
   "id": "05900b57",
   "metadata": {},
   "source": [
    "# Tuning by RandomizedSearchCV"
   ]
  },
  {
   "cell_type": "code",
   "execution_count": 34,
   "id": "b9c10519",
   "metadata": {},
   "outputs": [],
   "source": [
    "from sklearn.model_selection import RandomizedSearchCV"
   ]
  },
  {
   "cell_type": "code",
   "execution_count": 35,
   "id": "a84bcd48",
   "metadata": {},
   "outputs": [],
   "source": [
    "k = np.random.randint(3,50,47)\n",
    "ids = {\n",
    "    'n_neighbors' : k\n",
    "}"
   ]
  },
  {
   "cell_type": "code",
   "execution_count": 36,
   "id": "d8863fd9",
   "metadata": {},
   "outputs": [
    {
     "name": "stdout",
     "output_type": "stream",
     "text": [
      "{'n_neighbors': array([14, 40, 32, 31, 25, 30, 47, 24, 24, 30, 24, 19, 11, 31, 29, 17, 48,\n",
      "       26, 46, 24, 49, 19, 14, 11, 20, 18,  3, 13, 48, 30, 19, 31, 46,  6,\n",
      "        7, 20, 28, 15, 12, 49, 45, 26, 37, 48, 38, 18,  7])}\n"
     ]
    }
   ],
   "source": [
    "print(ids)"
   ]
  },
  {
   "cell_type": "code",
   "execution_count": 37,
   "id": "18d455b4",
   "metadata": {},
   "outputs": [],
   "source": [
    "rcv = RandomizedSearchCV(kr,ids, n_iter =20,cv = 3)"
   ]
  },
  {
   "cell_type": "code",
   "execution_count": 38,
   "id": "4bf01aaf",
   "metadata": {},
   "outputs": [
    {
     "data": {
      "text/plain": [
       "RandomizedSearchCV(cv=3, estimator=KNeighborsRegressor(), n_iter=20,\n",
       "                   param_distributions={'n_neighbors': array([14, 40, 32, 31, 25, 30, 47, 24, 24, 30, 24, 19, 11, 31, 29, 17, 48,\n",
       "       26, 46, 24, 49, 19, 14, 11, 20, 18,  3, 13, 48, 30, 19, 31, 46,  6,\n",
       "        7, 20, 28, 15, 12, 49, 45, 26, 37, 48, 38, 18,  7])})"
      ]
     },
     "execution_count": 38,
     "metadata": {},
     "output_type": "execute_result"
    }
   ],
   "source": [
    "rcv.fit(xtrain,ytrain)"
   ]
  },
  {
   "cell_type": "code",
   "execution_count": 39,
   "id": "7e68c77a",
   "metadata": {},
   "outputs": [
    {
     "data": {
      "text/plain": [
       "0.8937377207686303"
      ]
     },
     "execution_count": 39,
     "metadata": {},
     "output_type": "execute_result"
    }
   ],
   "source": [
    "rcv.best_score_"
   ]
  },
  {
   "cell_type": "code",
   "execution_count": 40,
   "id": "f1e7a87a",
   "metadata": {},
   "outputs": [
    {
     "data": {
      "text/plain": [
       "{'n_neighbors': 46}"
      ]
     },
     "execution_count": 40,
     "metadata": {},
     "output_type": "execute_result"
    }
   ],
   "source": [
    "rcv.best_params_  # The best K value is 46"
   ]
  },
  {
   "cell_type": "code",
   "execution_count": 41,
   "id": "37b3f64a",
   "metadata": {},
   "outputs": [
    {
     "data": {
      "text/plain": [
       "0.8988730228234761"
      ]
     },
     "execution_count": 41,
     "metadata": {},
     "output_type": "execute_result"
    }
   ],
   "source": [
    "rcv.score(xtest,ytest) # After tuning accuracy :"
   ]
  },
  {
   "cell_type": "markdown",
   "id": "0b793892",
   "metadata": {},
   "source": [
    "# Compare Accuracy"
   ]
  },
  {
   "cell_type": "code",
   "execution_count": 42,
   "id": "66e399bb",
   "metadata": {},
   "outputs": [],
   "source": [
    "# After tuning accuracy :0.8988730228234761\n",
    "# Default KNN accuracy: 0.8824191942939312\n",
    "# Linear Regression accuracy: 0.9028067919217864"
   ]
  },
  {
   "cell_type": "code",
   "execution_count": 43,
   "id": "78d7f0eb",
   "metadata": {},
   "outputs": [
    {
     "data": {
      "text/plain": [
       "array([107.86236611, 104.0589686 , 141.7292614 , ..., 131.08632541,\n",
       "       132.63173295, 193.64702173])"
      ]
     },
     "execution_count": 43,
     "metadata": {},
     "output_type": "execute_result"
    }
   ],
   "source": [
    "prediction2 = rcv.predict(xtest)\n",
    "prediction2"
   ]
  },
  {
   "cell_type": "code",
   "execution_count": 44,
   "id": "16acc303",
   "metadata": {},
   "outputs": [],
   "source": [
    "mse2 = mean_squared_error(ytest, prediction2)"
   ]
  },
  {
   "cell_type": "code",
   "execution_count": 45,
   "id": "09007279",
   "metadata": {},
   "outputs": [
    {
     "data": {
      "text/plain": [
       "101.74885267214579"
      ]
     },
     "execution_count": 45,
     "metadata": {},
     "output_type": "execute_result"
    }
   ],
   "source": [
    "mse2 "
   ]
  },
  {
   "cell_type": "markdown",
   "id": "43f2f224",
   "metadata": {},
   "source": [
    "# Compare MSE"
   ]
  },
  {
   "cell_type": "code",
   "execution_count": 46,
   "id": "0f86c85b",
   "metadata": {},
   "outputs": [],
   "source": [
    "# After tuning mse2 :101.74885267214579\n",
    "# Default KNN mse1: 118.30386323103018\n",
    "# Linear Regression mse: 97.79089304944755"
   ]
  },
  {
   "cell_type": "markdown",
   "id": "a01af50f",
   "metadata": {},
   "source": [
    "# Compare prediction value"
   ]
  },
  {
   "cell_type": "code",
   "execution_count": 47,
   "id": "3b638566",
   "metadata": {},
   "outputs": [
    {
     "data": {
      "text/html": [
       "<div>\n",
       "<style scoped>\n",
       "    .dataframe tbody tr th:only-of-type {\n",
       "        vertical-align: middle;\n",
       "    }\n",
       "\n",
       "    .dataframe tbody tr th {\n",
       "        vertical-align: top;\n",
       "    }\n",
       "\n",
       "    .dataframe thead th {\n",
       "        text-align: right;\n",
       "    }\n",
       "</style>\n",
       "<table border=\"1\" class=\"dataframe\">\n",
       "  <thead>\n",
       "    <tr style=\"text-align: right;\">\n",
       "      <th></th>\n",
       "      <th>Gender</th>\n",
       "      <th>Height</th>\n",
       "    </tr>\n",
       "  </thead>\n",
       "  <tbody>\n",
       "    <tr>\n",
       "      <th>7905</th>\n",
       "      <td>0</td>\n",
       "      <td>59.086006</td>\n",
       "    </tr>\n",
       "    <tr>\n",
       "      <th>6105</th>\n",
       "      <td>0</td>\n",
       "      <td>58.706315</td>\n",
       "    </tr>\n",
       "    <tr>\n",
       "      <th>5509</th>\n",
       "      <td>0</td>\n",
       "      <td>64.653941</td>\n",
       "    </tr>\n",
       "    <tr>\n",
       "      <th>2756</th>\n",
       "      <td>1</td>\n",
       "      <td>68.772464</td>\n",
       "    </tr>\n",
       "    <tr>\n",
       "      <th>3081</th>\n",
       "      <td>1</td>\n",
       "      <td>69.431259</td>\n",
       "    </tr>\n",
       "  </tbody>\n",
       "</table>\n",
       "</div>"
      ],
      "text/plain": [
       "      Gender     Height\n",
       "7905       0  59.086006\n",
       "6105       0  58.706315\n",
       "5509       0  64.653941\n",
       "2756       1  68.772464\n",
       "3081       1  69.431259"
      ]
     },
     "execution_count": 47,
     "metadata": {},
     "output_type": "execute_result"
    }
   ],
   "source": [
    "xtest.head()"
   ]
  },
  {
   "cell_type": "code",
   "execution_count": 48,
   "id": "20fff7dc",
   "metadata": {},
   "outputs": [
    {
     "data": {
      "text/plain": [
       "array([107.99188911])"
      ]
     },
     "execution_count": 48,
     "metadata": {},
     "output_type": "execute_result"
    }
   ],
   "source": [
    "# Linear Regression \n",
    "lr.predict([[0,59.086006]])"
   ]
  },
  {
   "cell_type": "code",
   "execution_count": 49,
   "id": "1c1f9932",
   "metadata": {},
   "outputs": [
    {
     "data": {
      "text/plain": [
       "array([108.0768846])"
      ]
     },
     "execution_count": 49,
     "metadata": {},
     "output_type": "execute_result"
    }
   ],
   "source": [
    "#KNN Regression\n",
    "kr.predict([[0,59.086006]])"
   ]
  },
  {
   "cell_type": "code",
   "execution_count": 50,
   "id": "f38d7ae7",
   "metadata": {},
   "outputs": [
    {
     "data": {
      "text/plain": [
       "array([107.86236611])"
      ]
     },
     "execution_count": 50,
     "metadata": {},
     "output_type": "execute_result"
    }
   ],
   "source": [
    "# After Tuning \n",
    "rcv.predict([[0,59.086006]])"
   ]
  },
  {
   "cell_type": "code",
   "execution_count": 51,
   "id": "b4394c36",
   "metadata": {},
   "outputs": [
    {
     "data": {
      "text/plain": [
       "7905    107.829004\n",
       "6105    101.990470\n",
       "5509    135.073886\n",
       "2756    187.550831\n",
       "3081    200.218490\n",
       "Name: Weight, dtype: float64"
      ]
     },
     "execution_count": 51,
     "metadata": {},
     "output_type": "execute_result"
    }
   ],
   "source": [
    "ytest.head()"
   ]
  },
  {
   "cell_type": "code",
   "execution_count": 52,
   "id": "6c2d5c00",
   "metadata": {},
   "outputs": [],
   "source": [
    "# original y value for [[0,59.086006]] :107.829004"
   ]
  },
  {
   "cell_type": "markdown",
   "id": "1637f0e7",
   "metadata": {},
   "source": [
    "# Step 02: KNN Classifier"
   ]
  },
  {
   "cell_type": "code",
   "execution_count": 53,
   "id": "74265d71",
   "metadata": {},
   "outputs": [
    {
     "data": {
      "text/html": [
       "<div>\n",
       "<style scoped>\n",
       "    .dataframe tbody tr th:only-of-type {\n",
       "        vertical-align: middle;\n",
       "    }\n",
       "\n",
       "    .dataframe tbody tr th {\n",
       "        vertical-align: top;\n",
       "    }\n",
       "\n",
       "    .dataframe thead th {\n",
       "        text-align: right;\n",
       "    }\n",
       "</style>\n",
       "<table border=\"1\" class=\"dataframe\">\n",
       "  <thead>\n",
       "    <tr style=\"text-align: right;\">\n",
       "      <th></th>\n",
       "      <th>Gender</th>\n",
       "      <th>Height</th>\n",
       "      <th>Weight</th>\n",
       "    </tr>\n",
       "  </thead>\n",
       "  <tbody>\n",
       "    <tr>\n",
       "      <th>0</th>\n",
       "      <td>Male</td>\n",
       "      <td>73.847017</td>\n",
       "      <td>241.893563</td>\n",
       "    </tr>\n",
       "    <tr>\n",
       "      <th>1</th>\n",
       "      <td>Male</td>\n",
       "      <td>68.781904</td>\n",
       "      <td>162.310473</td>\n",
       "    </tr>\n",
       "    <tr>\n",
       "      <th>2</th>\n",
       "      <td>Male</td>\n",
       "      <td>74.110105</td>\n",
       "      <td>212.740856</td>\n",
       "    </tr>\n",
       "    <tr>\n",
       "      <th>3</th>\n",
       "      <td>Male</td>\n",
       "      <td>71.730978</td>\n",
       "      <td>220.042470</td>\n",
       "    </tr>\n",
       "    <tr>\n",
       "      <th>4</th>\n",
       "      <td>Male</td>\n",
       "      <td>69.881796</td>\n",
       "      <td>206.349801</td>\n",
       "    </tr>\n",
       "  </tbody>\n",
       "</table>\n",
       "</div>"
      ],
      "text/plain": [
       "  Gender     Height      Weight\n",
       "0   Male  73.847017  241.893563\n",
       "1   Male  68.781904  162.310473\n",
       "2   Male  74.110105  212.740856\n",
       "3   Male  71.730978  220.042470\n",
       "4   Male  69.881796  206.349801"
      ]
     },
     "execution_count": 53,
     "metadata": {},
     "output_type": "execute_result"
    }
   ],
   "source": [
    "df2.head()"
   ]
  },
  {
   "cell_type": "code",
   "execution_count": 54,
   "id": "e40ff26d",
   "metadata": {},
   "outputs": [],
   "source": [
    "x = df2.drop('Gender',axis=1)\n",
    "y = df2.Gender"
   ]
  },
  {
   "cell_type": "markdown",
   "id": "8c7bd520",
   "metadata": {},
   "source": [
    "# Spliting the dataset to train and test"
   ]
  },
  {
   "cell_type": "code",
   "execution_count": 55,
   "id": "b5fc1217",
   "metadata": {},
   "outputs": [],
   "source": [
    "xtrain,xtest,ytrain,ytest=tts(x,y,train_size=.70, random_state=242)"
   ]
  },
  {
   "cell_type": "code",
   "execution_count": 56,
   "id": "bd700989",
   "metadata": {},
   "outputs": [
    {
     "data": {
      "text/html": [
       "<div>\n",
       "<style scoped>\n",
       "    .dataframe tbody tr th:only-of-type {\n",
       "        vertical-align: middle;\n",
       "    }\n",
       "\n",
       "    .dataframe tbody tr th {\n",
       "        vertical-align: top;\n",
       "    }\n",
       "\n",
       "    .dataframe thead th {\n",
       "        text-align: right;\n",
       "    }\n",
       "</style>\n",
       "<table border=\"1\" class=\"dataframe\">\n",
       "  <thead>\n",
       "    <tr style=\"text-align: right;\">\n",
       "      <th></th>\n",
       "      <th>Height</th>\n",
       "      <th>Weight</th>\n",
       "    </tr>\n",
       "  </thead>\n",
       "  <tbody>\n",
       "    <tr>\n",
       "      <th>5554</th>\n",
       "      <td>63.091703</td>\n",
       "      <td>121.008873</td>\n",
       "    </tr>\n",
       "    <tr>\n",
       "      <th>1335</th>\n",
       "      <td>64.922423</td>\n",
       "      <td>158.412559</td>\n",
       "    </tr>\n",
       "    <tr>\n",
       "      <th>6168</th>\n",
       "      <td>60.579208</td>\n",
       "      <td>127.354500</td>\n",
       "    </tr>\n",
       "    <tr>\n",
       "      <th>7705</th>\n",
       "      <td>63.414142</td>\n",
       "      <td>118.771265</td>\n",
       "    </tr>\n",
       "    <tr>\n",
       "      <th>5084</th>\n",
       "      <td>67.149206</td>\n",
       "      <td>139.552815</td>\n",
       "    </tr>\n",
       "  </tbody>\n",
       "</table>\n",
       "</div>"
      ],
      "text/plain": [
       "         Height      Weight\n",
       "5554  63.091703  121.008873\n",
       "1335  64.922423  158.412559\n",
       "6168  60.579208  127.354500\n",
       "7705  63.414142  118.771265\n",
       "5084  67.149206  139.552815"
      ]
     },
     "execution_count": 56,
     "metadata": {},
     "output_type": "execute_result"
    }
   ],
   "source": [
    "xtrain.head()"
   ]
  },
  {
   "cell_type": "markdown",
   "id": "830b283a",
   "metadata": {},
   "source": [
    "# KNN Classifier"
   ]
  },
  {
   "cell_type": "code",
   "execution_count": 57,
   "id": "aae5c6c5",
   "metadata": {},
   "outputs": [],
   "source": [
    "from sklearn.neighbors import KNeighborsClassifier"
   ]
  },
  {
   "cell_type": "code",
   "execution_count": 58,
   "id": "25c66ef1",
   "metadata": {},
   "outputs": [],
   "source": [
    "clf = KNeighborsClassifier(n_neighbors=49)"
   ]
  },
  {
   "cell_type": "code",
   "execution_count": 59,
   "id": "5039a71b",
   "metadata": {},
   "outputs": [
    {
     "data": {
      "text/plain": [
       "KNeighborsClassifier(n_neighbors=49)"
      ]
     },
     "execution_count": 59,
     "metadata": {},
     "output_type": "execute_result"
    }
   ],
   "source": [
    "clf.fit(xtrain,ytrain)"
   ]
  },
  {
   "cell_type": "markdown",
   "id": "1cb1c61e",
   "metadata": {},
   "source": [
    "# Evaluation of the Model (Accuracy, Confusion Matrix, ROC, AUC, Classification Report)"
   ]
  },
  {
   "cell_type": "code",
   "execution_count": 60,
   "id": "0c4e4078",
   "metadata": {},
   "outputs": [
    {
     "data": {
      "text/plain": [
       "0.9193611219322166"
      ]
     },
     "execution_count": 60,
     "metadata": {},
     "output_type": "execute_result"
    }
   ],
   "source": [
    "accuracy = clf.score(xtest,ytest)\n",
    "accuracy "
   ]
  },
  {
   "cell_type": "code",
   "execution_count": 61,
   "id": "2009ce8d",
   "metadata": {},
   "outputs": [
    {
     "data": {
      "text/plain": [
       "array(['Male', 'Male', 'Female', ..., 'Male', 'Male', 'Female'],\n",
       "      dtype=object)"
      ]
     },
     "execution_count": 61,
     "metadata": {},
     "output_type": "execute_result"
    }
   ],
   "source": [
    "prediction = clf.predict(xtest)\n",
    "prediction"
   ]
  },
  {
   "cell_type": "code",
   "execution_count": 62,
   "id": "d05fa6ca",
   "metadata": {},
   "outputs": [],
   "source": [
    "from sklearn.metrics import classification_report, confusion_matrix,roc_curve, plot_roc_curve"
   ]
  },
  {
   "cell_type": "code",
   "execution_count": 63,
   "id": "6eaacbb4",
   "metadata": {},
   "outputs": [
    {
     "name": "stdout",
     "output_type": "stream",
     "text": [
      "              precision    recall  f1-score   support\n",
      "\n",
      "      Female       0.89      0.91      0.90      1050\n",
      "        Male       0.94      0.93      0.93      1517\n",
      "\n",
      "    accuracy                           0.92      2567\n",
      "   macro avg       0.92      0.92      0.92      2567\n",
      "weighted avg       0.92      0.92      0.92      2567\n",
      "\n"
     ]
    }
   ],
   "source": [
    "# Classification Report\n",
    "print(classification_report(ytest, prediction))"
   ]
  },
  {
   "cell_type": "code",
   "execution_count": 64,
   "id": "e5910478",
   "metadata": {},
   "outputs": [
    {
     "data": {
      "text/plain": [
       "(2567, 2)"
      ]
     },
     "execution_count": 64,
     "metadata": {},
     "output_type": "execute_result"
    }
   ],
   "source": [
    "xtest.shape"
   ]
  },
  {
   "cell_type": "code",
   "execution_count": 65,
   "id": "09c9376b",
   "metadata": {},
   "outputs": [
    {
     "data": {
      "text/plain": [
       "array([[ 956,   94],\n",
       "       [ 113, 1404]])"
      ]
     },
     "execution_count": 65,
     "metadata": {},
     "output_type": "execute_result"
    }
   ],
   "source": [
    "# Confution Matrix\n",
    "con_mat = confusion_matrix(ytest, prediction)\n",
    "con_mat"
   ]
  },
  {
   "cell_type": "code",
   "execution_count": 66,
   "id": "20f5776f",
   "metadata": {},
   "outputs": [
    {
     "data": {
      "text/plain": [
       "<AxesSubplot:>"
      ]
     },
     "execution_count": 66,
     "metadata": {},
     "output_type": "execute_result"
    },
    {
     "data": {
      "image/png": "[encoded data removed]",
      "text/plain": [
       "<Figure size 432x288 with 2 Axes>"
      ]
     },
     "metadata": {
      "needs_background": "light"
     },
     "output_type": "display_data"
    }
   ],
   "source": [
    "import seaborn as sns\n",
    "sns.heatmap(con_mat,annot=True)"
   ]
  },
  {
   "cell_type": "code",
   "execution_count": 67,
   "id": "e5afdbb5",
   "metadata": {},
   "outputs": [
    {
     "data": {
      "text/plain": [
       "[<matplotlib.lines.Line2D at 0x7f98885c7f10>]"
      ]
     },
     "execution_count": 67,
     "metadata": {},
     "output_type": "execute_result"
    },
    {
     "data": {
      "image/png": "[encoded data removed]",
      "text/plain": [
       "<Figure size 432x288 with 1 Axes>"
      ]
     },
     "metadata": {
      "needs_background": "light"
     },
     "output_type": "display_data"
    }
   ],
   "source": [
    "# ROC curve\n",
    "import matplotlib.pyplot as plt\n",
    "\n",
    "plot_roc_curve(clf,xtest,ytest)\n",
    "plt.plot([0,1],[0,1])"
   ]
  },
  {
   "cell_type": "code",
   "execution_count": 68,
   "id": "79fbcfcf",
   "metadata": {},
   "outputs": [],
   "source": [
    "# Here the AUC is 0.97"
   ]
  }
 ],
 "metadata": {
  "kernelspec": {
   "display_name": "Python 3 (ipykernel)",
   "language": "python",
   "name": "python3"
  },
  "language_info": {
   "codemirror_mode": {
    "name": "ipython",
    "version": 3
   },
   "file_extension": ".py",
   "mimetype": "text/x-python",
   "name": "python",
   "nbconvert_exporter": "python",
   "pygments_lexer": "ipython3",
   "version": "3.9.7"
  }
 },
 "nbformat": 4,
 "nbformat_minor": 5
}
